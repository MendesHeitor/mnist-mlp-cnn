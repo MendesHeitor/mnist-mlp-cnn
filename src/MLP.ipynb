{
  "cells": [
    {
      "cell_type": "markdown",
      "metadata": {
        "id": "MpcMwplW7yO9"
      },
      "source": [
        "## Importing libraries\n",
        "\n",
        "This MLP network is created from scratch using only the numpy library. It focuses on introductory algorithms and techniques, making numpy the sole necessary library. This minimalist approach highlights the fundamental concepts of neural networks while relying on numpy's powerful numerical computations for essential operations.\n"
      ]
    },
    {
      "cell_type": "code",
      "execution_count": 2,
      "metadata": {
        "id": "S5t-ggY87spL"
      },
      "outputs": [],
      "source": [
        "import sys\n",
        "sys.path.insert(0, '../helper')\n",
        "import mnist_loader\n",
        "\n",
        "import numpy as np\n",
        "import pandas as pd\n",
        "import matplotlib.pyplot as plt\n",
        "import random"
      ]
    },
    {
      "cell_type": "markdown",
      "metadata": {
        "id": "WQdF5mNWAzo2"
      },
      "source": [
        "## Activation Functions Class"
      ]
    },
    {
      "cell_type": "code",
      "execution_count": 3,
      "metadata": {
        "id": "r0ePfHTqBEX3"
      },
      "outputs": [],
      "source": [
        "class Activation:\n",
        "  \"\"\"\n",
        "    - Activation functions.\n",
        "    - And their derivatives\n",
        "  \"\"\"\n",
        "\n",
        "  @classmethod\n",
        "  def sigmoid(cls, vec):\n",
        "    \"\"\"\n",
        "      Sigmoid activation function.\n",
        "    \"\"\"\n",
        "    return 1.0 / (1.0 + np.exp(-vec))\n",
        "\n",
        "  @classmethod\n",
        "  def sigmoid_drv(cls, vec):\n",
        "    \"\"\"\n",
        "      Sigmoid function derivative.\n",
        "    \"\"\"\n",
        "    return cls.sigmoid(vec) * (1 - cls.sigmoid(vec))\n",
        "\n",
        "  @classmethod\n",
        "  def step(cls, vec):\n",
        "    \"\"\"\n",
        "      Binary Step activation function.\n",
        "    \"\"\"\n",
        "    return np.where(vec > 0, 1, 0)\n",
        "\n",
        "  @classmethod\n",
        "  def relu(cls, vec):\n",
        "    \"\"\"\n",
        "      Rectified Linear Unit\n",
        "    \"\"\"\n",
        "    return np.maximum(0, vec)\n",
        "\n",
        "  @classmethod\n",
        "  def relu_drv(cls, vec):\n",
        "    \"\"\"\n",
        "      Rectified Linear Unit Derivative\n",
        "    \"\"\"\n",
        "    return np.where(vec > 0, 1, 0)\n",
        "\n",
        "  @classmethod\n",
        "  def tanh(cls, vec):\n",
        "    \"\"\"\n",
        "      Hiperbolic Tangent\n",
        "    \"\"\"\n",
        "    return np.tanh(vec)\n",
        "\n",
        "  @classmethod\n",
        "  def tanh_drv(cls, vec):\n",
        "    \"\"\"\n",
        "      Hiperbolic Tangent Derivative\n",
        "    \"\"\"\n",
        "    return 1 - np.tanh(vec)**2"
      ]
    },
    {
      "cell_type": "markdown",
      "metadata": {
        "id": "AVkNFNNSA98-"
      },
      "source": [
        "## Loss Function Class"
      ]
    },
    {
      "cell_type": "code",
      "execution_count": 4,
      "metadata": {
        "id": "vBoe8OBxBSRn"
      },
      "outputs": [],
      "source": [
        "class Cost:\n",
        "  \"\"\"\n",
        "    - Cost functions.\n",
        "  \"\"\"\n",
        "\n",
        "  @classmethod\n",
        "  def cost_derivative(cls, output_activations, y):\n",
        "    \"\"\"\n",
        "      - Return the vector of partial derivatives partial C(x).\n",
        "      - Partial a for the output activations.\n",
        "    \"\"\"\n",
        "    return (output_activations-y)"
      ]
    },
    {
      "cell_type": "markdown",
      "metadata": {
        "id": "q-IOM4EH9V5Z"
      },
      "source": [
        "## Network Object"
      ]
    },
    {
      "cell_type": "code",
      "execution_count": 5,
      "metadata": {
        "id": "kwDEbCL_9OIc"
      },
      "outputs": [],
      "source": [
        "class Network:\n",
        "  \"\"\"\n",
        "    - A Feed Foward Neural Network.\n",
        "    - Uses Stochastic Gradient Descent learning algorithm.\n",
        "    - Gradients are being caculated using back propagation.\n",
        "    - Misses some optimizations and omits some desirable features.\n",
        "  \"\"\"\n",
        "  def __init__(self, sizes, activation_function = Activation.sigmoid, actv_drv = Activation.sigmoid_drv):\n",
        "    self.num_layers = len(sizes)\n",
        "    self.sizes = sizes\n",
        "    self.biases = [np.random.randn(y, 1) for y in sizes[1:]]\n",
        "    self.weights = [np.random.randn(y, x) for x, y in zip(sizes[:-1], sizes[1:])]\n",
        "    self.activation_function = activation_function\n",
        "    self.actv_drv = actv_drv\n",
        "\n",
        "  def feed_foward(self, a):\n",
        "    \"\"\"\n",
        "      Calculates the final result of a input going through the NN.\n",
        "    \"\"\"\n",
        "    for b, w in zip(self.biases, self.weights):\n",
        "      a = self.activation_function(np.dot(w, a) + b)\n",
        "    return a\n",
        "\n",
        "  def update_mini_batch(self,  mini_batch, eta):\n",
        "    \"\"\"\n",
        "      - Updates the network's weights and biases by applying gradient descent using backpropagation to a single mini batch.\n",
        "      - The \"mini_batch\" is a list of tuples \"(x, y)\".\n",
        "      - \"eta is the learning rate.\n",
        "    \"\"\"\n",
        "\n",
        "    nabla_b = [np.zeros(b.shape) for b in self.biases]\n",
        "    nabla_w = [np.zeros(w.shape) for w in self.weights]\n",
        "\n",
        "    # Nabla lists are lists of numpy arrays, in the same way as self.weights and self.biases\n",
        "    # They store, by adding, all the changes in the weights calculated by the back propagation algorithm\n",
        "    for x, y in mini_batch:\n",
        "      delta_nabla_b, delta_nabla_w = self.back_propagation(x, y)\n",
        "\n",
        "      nabla_b = [nb + dnb for nb, dnb in zip(nabla_b, delta_nabla_b)]\n",
        "      nabla_w = [nw + dnw for nw, dnw in zip(nabla_w, delta_nabla_w)]\n",
        "\n",
        "    # Recalculate weights for a mini-batch run\n",
        "    self.weights = [w - (eta/len(mini_batch)) * nw for w, nw in zip(self.weights, nabla_w)]\n",
        "    self.biases = [b - (eta/len(mini_batch)) * nb for b, nb in zip(self.biases, nabla_b)]\n",
        "\n",
        "  def SGD(self, training_data, epochs, mini_batch_size, eta, test_data=None):\n",
        "    \"\"\"\n",
        "      - Utilizes mini-batch stochastic gradient descent for training the neural network.\n",
        "      - The \"training_data\" consists of tuples \"(x, y)\" representing input and desired output.\n",
        "      - Other parameters are self-explanatory.\n",
        "      - If \"test_data\" is provided, the network evaluates against it after each epoch, allowing for progress tracking but at a slower pace.\n",
        "    \"\"\"\n",
        "\n",
        "    if test_data:\n",
        "      test_data = list(test_data)\n",
        "      n_test = len(test_data)\n",
        "\n",
        "    training_data = list(training_data)\n",
        "    n = len(training_data)\n",
        "\n",
        "    for j in range(epochs):\n",
        "      random.shuffle(training_data)\n",
        "      mini_batches = [training_data[k:k+mini_batch_size] for k in range(0, n, mini_batch_size)]\n",
        "\n",
        "      for mini_batch in mini_batches:\n",
        "        self.update_mini_batch(mini_batch, eta)\n",
        "\n",
        "      if test_data :\n",
        "        print(f\"Epoch {j}: {self.evaluate(test_data)} / {n_test}\")\n",
        "\n",
        "      else:\n",
        "        print(f\"Epoch {j}: complete\")\n",
        "\n",
        "\n",
        "  def back_propagation(self, x, y):\n",
        "    \"\"\"\n",
        "      - Returns a tuple \"(nabla_b, nabla_w)\" representing the gradient for the chosen Cost Function C(x).\n",
        "      - \"nabla_b\" & \"nabla_w\" are layer-by-layer lists of numpy arrays.\n",
        "      - Similar to \"self.biases\" and \"self.weights\".\n",
        "      - How much is the adjustment.\n",
        "    \"\"\"\n",
        "\n",
        "    nabla_b = [np.zeros(b.shape) for b in self.biases]\n",
        "    nabla_w = [np.zeros(w.shape) for w in self.weights]\n",
        "\n",
        "    # Feed-foward phase\n",
        "\n",
        "    activation = x\n",
        "    activations = [x] # Stores activations layer by layer\n",
        "    zs = [] # Stores all the z vectores, layer-by-layer\n",
        "\n",
        "    for b, w in zip(self.biases, self.weights):\n",
        "      z = np.dot(w, activation) + b\n",
        "      zs.append(z)\n",
        "      activation = self.activation_function(z)\n",
        "      activations.append(activation)\n",
        "\n",
        "    # Backward pass -> delta rule\n",
        "    delta = Cost.cost_derivative(activations[-1], y) * self.actv_drv(zs[-1])\n",
        "\n",
        "    nabla_b[-1] = delta\n",
        "    nabla_w[-1] = np.dot(delta, activations[-2].transpose())\n",
        "\n",
        "    # In the following loop we want to iterate from the last to the first layer, excluding the output and the input layers\n",
        "    # We are taking advantage that python can use negative indices\n",
        "\n",
        "    for l in range(2, self.num_layers):\n",
        "      z = zs[-l]\n",
        "      sig_dv = self.actv_drv(z)\n",
        "      delta = np.dot(self.weights[-l+1].transpose(), delta) * sig_dv\n",
        "      nabla_b[-l] = delta\n",
        "      nabla_w[-l] = np.dot(delta, activations[-l-1].transpose())\n",
        "\n",
        "    return (nabla_b, nabla_w)\n",
        "\n",
        "\n",
        "  def evaluate(self, test_data):\n",
        "    \"\"\"\n",
        "      - Evaluates the number of correct predictions of the NN.\n",
        "      - The output is chosen by the \"winner takes all\" rule, where the highest number on the output vector is the prediction\n",
        "    \"\"\"\n",
        "    test_results = [(np.argmax(self.feed_foward(x)), y) for (x, y) in test_data]\n",
        "\n",
        "    return sum (int(x == y) for (x, y) in test_results)\n",
        "\n",
        "\n",
        "  def debug(self):\n",
        "    \"\"\"\n",
        "      - Write any code for debbuging.\n",
        "    \"\"\""
      ]
    },
    {
      "cell_type": "markdown",
      "metadata": {
        "id": "LpnxVCCqnt30"
      },
      "source": [
        "## Training\n",
        "\n",
        "In this section we're going to train this simple Mlp using the mnist dataset in the \".pkl\" file, using its default data division."
      ]
    },
    {
      "cell_type": "markdown",
      "metadata": {
        "id": "HPmcgIWWO4SQ"
      },
      "source": [
        "## Tuning\n",
        "\n",
        "Now, we're going to explore the hyperparameters of this MLP, in order to find the most adequate configuration for it."
      ]
    },
    {
      "cell_type": "markdown",
      "metadata": {
        "id": "jXDDT-VFaRcU"
      },
      "source": [
        "### Activation Function"
      ]
    },
    {
      "cell_type": "markdown",
      "metadata": {
        "id": "eMv8ZZLbhxkk"
      },
      "source": [
        "#### Sigmoid Function\n",
        "\n",
        "The sigmoid function yielded the best results so far. When we used the same parameter values for all the functions, the sigmoid function achieved an accuracy of over 90%, while the other functions only reached around 10%-20% accuracy. Therefore, it's clear that the sigmoid function outperformed the others in terms of accuracy. The behaviour of the net while using the sigmoid function is much more desirable, the tendency of it its to keep improving its perfomance."
      ]
    },
    {
      "cell_type": "code",
      "execution_count": 6,
      "metadata": {
        "colab": {
          "base_uri": "https://localhost:8080/",
          "height": 452
        },
        "id": "puKqAq0vjbYp",
        "outputId": "815d8589-0c9d-47a6-d3b5-c31228f885e2"
      },
      "outputs": [
        {
          "data": {
            "image/png": "[encoded data removed]",
            "text/plain": [
              "<Figure size 640x480 with 1 Axes>"
            ]
          },
          "metadata": {},
          "output_type": "display_data"
        }
      ],
      "source": [
        "x = np.linspace(-10, 10)\n",
        "y = Activation.sigmoid(x)\n",
        "\n",
        "plt.plot(x, y)\n",
        "plt.title(\"Sigmoid Function\")\n",
        "plt.show()"
      ]
    },
    {
      "cell_type": "code",
      "execution_count": 7,
      "metadata": {
        "colab": {
          "base_uri": "https://localhost:8080/"
        },
        "id": "r5gFWfQDhxC9",
        "outputId": "68a81905-1ecd-41ed-9bb2-0133ef0c131f"
      },
      "outputs": [
        {
          "name": "stdout",
          "output_type": "stream",
          "text": [
            "Epoch 0: 9124 / 10000\n",
            "Epoch 1: 9291 / 10000\n",
            "Epoch 2: 9331 / 10000\n",
            "Epoch 3: 9370 / 10000\n",
            "Epoch 4: 9396 / 10000\n",
            "Epoch 5: 9464 / 10000\n",
            "Epoch 6: 9427 / 10000\n",
            "Epoch 7: 9441 / 10000\n",
            "Epoch 8: 9475 / 10000\n",
            "Epoch 9: 9478 / 10000\n",
            "Epoch 10: 9468 / 10000\n",
            "Epoch 11: 9471 / 10000\n",
            "Epoch 12: 9470 / 10000\n",
            "Epoch 13: 9465 / 10000\n",
            "Epoch 14: 9464 / 10000\n",
            "Epoch 15: 9516 / 10000\n",
            "Epoch 16: 9509 / 10000\n",
            "Epoch 17: 9480 / 10000\n",
            "Epoch 18: 9481 / 10000\n",
            "Epoch 19: 9506 / 10000\n",
            "Epoch 20: 9492 / 10000\n",
            "Epoch 21: 9476 / 10000\n",
            "Epoch 22: 9513 / 10000\n",
            "Epoch 23: 9477 / 10000\n",
            "Epoch 24: 9497 / 10000\n",
            "Epoch 25: 9493 / 10000\n",
            "Epoch 26: 9483 / 10000\n",
            "Epoch 27: 9507 / 10000\n",
            "Epoch 28: 9503 / 10000\n",
            "Epoch 29: 9500 / 10000\n"
          ]
        }
      ],
      "source": [
        "net = Network([784, 30, 10])\n",
        "training_data, validation_data, test_data = mnist_loader.load_data_wrapper()\n",
        "\n",
        "#epochs, mini_batch_size, eta,\n",
        "net.SGD(training_data, 30, 10, 4.0, test_data=test_data)"
      ]
    },
    {
      "cell_type": "markdown",
      "metadata": {
        "id": "-E_OupMkaSXI"
      },
      "source": [
        "#### Tanh Function\n",
        "\n",
        "\n",
        "The hyperbolic tangent (tanh) function didn't give us good results. We used the same parameters as before when we were using the sigmoid function, but the tanh function didn't work well in this case. Initially, the accuracy improved in the first 5-7 epochs, but after that, the performance of the network either stayed the same or got worse. Overall, the tanh function didn't perform well."
      ]
    },
    {
      "cell_type": "code",
      "execution_count": 8,
      "metadata": {
        "colab": {
          "base_uri": "https://localhost:8080/",
          "height": 452
        },
        "id": "1a7yL0mzkT0w",
        "outputId": "e5a5a07d-dbff-47d2-b45b-3127b1427e81"
      },
      "outputs": [
        {
          "data": {
            "image/png": "[encoded data removed]",
            "text/plain": [
              "<Figure size 640x480 with 1 Axes>"
            ]
          },
          "metadata": {},
          "output_type": "display_data"
        }
      ],
      "source": [
        "x = np.linspace(-10, 10)\n",
        "y = Activation.tanh(x)\n",
        "\n",
        "plt.plot(x, y)\n",
        "plt.title(\"Tanh Function\")\n",
        "plt.show()"
      ]
    },
    {
      "cell_type": "code",
      "execution_count": 9,
      "metadata": {
        "colab": {
          "base_uri": "https://localhost:8080/"
        },
        "id": "1o3xywvNnslZ",
        "outputId": "9f05509f-0151-4265-8a0b-8664d286d804"
      },
      "outputs": [
        {
          "name": "stdout",
          "output_type": "stream",
          "text": [
            "Epoch 0: 1520 / 10000\n",
            "Epoch 1: 1303 / 10000\n",
            "Epoch 2: 980 / 10000\n",
            "Epoch 3: 980 / 10000\n",
            "Epoch 4: 981 / 10000\n",
            "Epoch 5: 1091 / 10000\n",
            "Epoch 6: 980 / 10000\n",
            "Epoch 7: 980 / 10000\n",
            "Epoch 8: 980 / 10000\n",
            "Epoch 9: 980 / 10000\n",
            "Epoch 10: 980 / 10000\n",
            "Epoch 11: 980 / 10000\n",
            "Epoch 12: 980 / 10000\n",
            "Epoch 13: 980 / 10000\n",
            "Epoch 14: 980 / 10000\n",
            "Epoch 15: 980 / 10000\n",
            "Epoch 16: 980 / 10000\n",
            "Epoch 17: 980 / 10000\n",
            "Epoch 18: 980 / 10000\n",
            "Epoch 19: 980 / 10000\n",
            "Epoch 20: 980 / 10000\n",
            "Epoch 21: 980 / 10000\n",
            "Epoch 22: 980 / 10000\n",
            "Epoch 23: 980 / 10000\n",
            "Epoch 24: 980 / 10000\n",
            "Epoch 25: 980 / 10000\n",
            "Epoch 26: 980 / 10000\n",
            "Epoch 27: 980 / 10000\n",
            "Epoch 28: 980 / 10000\n",
            "Epoch 29: 980 / 10000\n"
          ]
        }
      ],
      "source": [
        "net = Network([784, 30, 10], Activation.tanh, Activation.tanh_drv)\n",
        "training_data, validation_data, test_data = mnist_loader.load_data_wrapper()\n",
        "\n",
        "#epochs, mini_batch_size, eta,\n",
        "net.SGD(training_data, 30, 10, 4.0, test_data=test_data)"
      ]
    },
    {
      "cell_type": "markdown",
      "metadata": {
        "id": "TyCo5utgaURK"
      },
      "source": [
        "### ETA - learning rate"
      ]
    },
    {
      "cell_type": "markdown",
      "metadata": {
        "id": "Nm5q60_KaWIa"
      },
      "source": [
        "### Mini batch size"
      ]
    },
    {
      "cell_type": "markdown",
      "metadata": {
        "id": "rAc3XjDxaebB"
      },
      "source": [
        "### Number of Epochs"
      ]
    },
    {
      "cell_type": "markdown",
      "metadata": {
        "id": "8w1Z7Hpwag7r"
      },
      "source": [
        "### The network architecture"
      ]
    },
    {
      "cell_type": "markdown",
      "metadata": {
        "id": "NYm1BbZeaisi"
      },
      "source": [
        "### Regularization / Droup-out"
      ]
    },
    {
      "cell_type": "markdown",
      "metadata": {
        "id": "vTeITtZBalTF"
      },
      "source": [
        "### Machine Learning Algorithm"
      ]
    }
  ],
  "metadata": {
    "accelerator": "GPU",
    "colab": {
      "gpuType": "T4",
      "provenance": []
    },
    "kernelspec": {
      "display_name": "Python 3",
      "name": "python3"
    },
    "language_info": {
      "codemirror_mode": {
        "name": "ipython",
        "version": 3
      },
      "file_extension": ".py",
      "mimetype": "text/x-python",
      "name": "python",
      "nbconvert_exporter": "python",
      "pygments_lexer": "ipython3",
      "version": "3.10.6"
    }
  },
  "nbformat": 4,
  "nbformat_minor": 0
}
