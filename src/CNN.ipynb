{
  "cells": [
    {
      "cell_type": "markdown",
      "metadata": {
        "id": "rl3yDWf0-ta4"
      },
      "source": [
        "# Importing Libraries"
      ]
    },
    {
      "cell_type": "code",
      "execution_count": 1,
      "metadata": {
        "colab": {
          "base_uri": "https://localhost:8080/"
        },
        "id": "PuIiWpS_rZIN",
        "outputId": "016b0a20-f593-4cb0-992c-0eea86b10959"
      },
      "outputs": [
        {
          "name": "stdout",
          "output_type": "stream",
          "text": [
            "Defaulting to user installation because normal site-packages is not writeable\n",
            "Requirement already satisfied: torchmetrics in /home/heitor/.local/lib/python3.10/site-packages (1.0.1)\n",
            "Requirement already satisfied: numpy>1.20.0 in /home/heitor/.local/lib/python3.10/site-packages (from torchmetrics) (1.25.0)\n",
            "Requirement already satisfied: torch>=1.8.1 in /home/heitor/.local/lib/python3.10/site-packages (from torchmetrics) (1.12.0)\n",
            "Requirement already satisfied: packaging in /home/heitor/.local/lib/python3.10/site-packages (from torchmetrics) (23.0)\n",
            "Requirement already satisfied: lightning-utilities>=0.7.0 in /home/heitor/.local/lib/python3.10/site-packages (from torchmetrics) (0.9.0)\n",
            "Requirement already satisfied: typing-extensions in /home/heitor/.local/lib/python3.10/site-packages (from lightning-utilities>=0.7.0->torchmetrics) (4.4.0)\n"
          ]
        }
      ],
      "source": [
        "!pip install torchmetrics"
      ]
    },
    {
      "cell_type": "code",
      "execution_count": 2,
      "metadata": {
        "id": "a4D2oTJUDsNE"
      },
      "outputs": [],
      "source": [
        "import torch\n",
        "from torch.optim import Adam, SGD\n",
        "from torch import nn, utils, save, load\n",
        "from torchvision import datasets, transforms\n",
        "import matplotlib.pyplot as plt\n",
        "from torchmetrics.classification import Accuracy, Precision, Recall"
      ]
    },
    {
      "cell_type": "markdown",
      "metadata": {
        "id": "3mmjvzUjEgR3"
      },
      "source": [
        "# Gathering and Organizing the data"
      ]
    },
    {
      "cell_type": "markdown",
      "metadata": {
        "id": "X6eZ6WwcEW1F"
      },
      "source": [
        "\n",
        "The dataset used in the \"Neural Networks and Deep Learning\" by Michale Nielsen was organized as a zip of tuples\n",
        "each tuple of length 2 represents: as the first element a 2d ndarray with (784, 1) shape, which represents a flattened (28x28) image,\n",
        "the second element a nd array with (10, 1) which represents the value (the digit represented) of that image input,\n",
        "the index where the number 1 is placed is the correct output\n",
        "Given this context, we are not going to use the dataset given in the book, we've chosen to proceed using the mnist dataset from pytorch datasets.\n"
      ]
    },
    {
      "cell_type": "code",
      "execution_count": 3,
      "metadata": {
        "id": "gA426yxGCWaJ"
      },
      "outputs": [],
      "source": [
        "# Transform PIL image into a tensor. The values are in the range [0, 1]\n",
        "t = transforms.ToTensor()\n",
        "\n",
        "# Load datasets for both training and testing.\n",
        "mnist_training_28 = datasets.MNIST(root='/tmp/mnist', train=True, download=True, transform=t)\n",
        "mnist_test_28 = datasets.MNIST(root='/tmp/mnist', train=False, download=True, transform=t)"
      ]
    },
    {
      "cell_type": "code",
      "execution_count": 4,
      "metadata": {
        "id": "D3YJaiM0akSp"
      },
      "outputs": [],
      "source": [
        "# Transform PIL image into a tensor. The values are in the range [0, 1]\n",
        "transform = transforms.Compose([\n",
        "    transforms.Resize((224, 224)),\n",
        "    transforms.ToTensor()\n",
        "])\n",
        "\n",
        "# Load datasets for both training and testing.\n",
        "mnist_training_224 = datasets.MNIST(root='/tmp/mnist', train=True, download=True, transform=transform)\n",
        "mnist_test_224 = datasets.MNIST(root='/tmp/mnist', train=False, download=True, transform=transform)"
      ]
    },
    {
      "cell_type": "code",
      "execution_count": 5,
      "metadata": {
        "colab": {
          "base_uri": "https://localhost:8080/",
          "height": 350
        },
        "id": "wSpLHVSVFx8W",
        "outputId": "23144164-e1ff-4c59-8f49-35cce41dd5b8"
      },
      "outputs": [
        {
          "data": {
            "image/png": "[encoded data removed]",
            "text/plain": [
              "<Figure size 900x400 with 12 Axes>"
            ]
          },
          "metadata": {},
          "output_type": "display_data"
        }
      ],
      "source": [
        "# Checking the dataset\n",
        "\n",
        "cols = 6\n",
        "rows = 2\n",
        "\n",
        "fig, axes = plt.subplots(nrows=rows, ncols=cols, figsize=(1.5*cols, 2*rows))\n",
        "\n",
        "for i, ax in enumerate(axes.flatten()):\n",
        "    image, label = mnist_training_28[i]\n",
        "    ax.set_title(f\"Label: {label}\")\n",
        "    ax.imshow(image.squeeze(0), cmap='gray')  # remove first dimension, hence it its a (1, 28, 28) tensor\n",
        "\n",
        "plt.show()"
      ]
    },
    {
      "cell_type": "markdown",
      "metadata": {
        "id": "wKZQnJLU-094"
      },
      "source": [
        "# Initial CNN - LeNet"
      ]
    },
    {
      "cell_type": "markdown",
      "metadata": {
        "id": "cFKBjdkwKXrK"
      },
      "source": [
        "LeNet was one of the first architecture of covolutional neural networks, implemented around the 90's. It consisted in 2 convolutional layers, both followed by a average pooling layer, and 3 fully connected layers after those two convolutional."
      ]
    },
    {
      "cell_type": "code",
      "execution_count": 6,
      "metadata": {
        "id": "mdYZn2J4KXQO"
      },
      "outputs": [],
      "source": [
        "class LeNet(nn.Module):\n",
        "\n",
        "  def __init__ (self, num_classes):\n",
        "    super().__init__()\n",
        "    self.num_classes = num_classes\n",
        "\n",
        "    self.net = nn.Sequential(\n",
        "      nn.LazyConv2d(6, kernel_size=5, padding=2), nn.Sigmoid(),\n",
        "      nn.AvgPool2d(kernel_size=2, stride=2),\n",
        "      nn.LazyConv2d(16, kernel_size=5), nn.Sigmoid(),\n",
        "      nn.AvgPool2d(kernel_size=2, stride=2),\n",
        "      nn.Flatten(),\n",
        "      nn.LazyLinear(120), nn.Sigmoid(),\n",
        "      nn.LazyLinear(84), nn.Sigmoid(),\n",
        "      nn.LazyLinear(num_classes)\n",
        "    )\n",
        "\n",
        "  def forward (self, x):\n",
        "    return self.net(x)\n"
      ]
    },
    {
      "cell_type": "markdown",
      "metadata": {},
      "source": [
        "# LeNet - 2\n",
        "\n",
        "Implemented the same architechture as LeNetbut added:\n",
        "\n",
        "- dropout to ensure generalization\n",
        "- relu to ease training\n",
        "- maxpooling to extract the features in a more relevant way"
      ]
    },
    {
      "cell_type": "code",
      "execution_count": 7,
      "metadata": {},
      "outputs": [],
      "source": [
        "class LeNet_2(nn.Module):\n",
        "\n",
        "  def __init__ (self, num_classes):\n",
        "    super().__init__()\n",
        "    self.num_classes = num_classes\n",
        "\n",
        "    self.net = nn.Sequential(\n",
        "      nn.LazyConv2d(6, kernel_size=5, padding=2), nn.ReLU(),\n",
        "      nn.MaxPool2d(kernel_size=2, stride=2),\n",
        "      nn.LazyConv2d(16, kernel_size=5), nn.ReLU(),\n",
        "      nn.MaxPool2d(kernel_size=2, stride=2),\n",
        "      nn.Flatten(),\n",
        "      nn.LazyLinear(120), nn.Sigmoid(),  nn.Dropout(p=0.5),\n",
        "      nn.LazyLinear(84), nn.Sigmoid(), nn.Dropout(p=0.5),\n",
        "      nn.LazyLinear(num_classes)\n",
        "    )\n",
        "\n",
        "  def forward (self, x):\n",
        "    return self.net(x)"
      ]
    },
    {
      "cell_type": "markdown",
      "metadata": {
        "id": "u9ltwY2qV2ei"
      },
      "source": [
        "# Another architecture - AlexNet\n",
        "\n",
        "\n",
        "AlexNet was an evolution of LeNet, retaining the idea of multiple convolutional layers followed by fully connected layers. With increased computational capacity, AlexNet deepened and broadened the architecture, allowing timely training. It also introduced the relu activation function, which simplified training deep networks by requiring fewer mathematical operations. Additionally, max pooling was used instead of average pooling, leading to better feature comprehension. The incorporation of dropout, a regularization technique, further reduced overfitting by randomly deactivating neurons based on a probability, ensuring a more generalist model."
      ]
    },
    {
      "cell_type": "code",
      "execution_count": 8,
      "metadata": {
        "id": "1fICpKVBUcL2"
      },
      "outputs": [],
      "source": [
        "class AlexNet(nn.Module):\n",
        "\n",
        "  def __init__ (self, num_classes):\n",
        "    super().__init__()\n",
        "    self.num_classes = num_classes\n",
        "\n",
        "    self.net = nn.Sequential(\n",
        "      nn.LazyConv2d(96, kernel_size=11, stride=4, padding=1),\n",
        "      nn.ReLU(), nn.MaxPool2d(kernel_size=3, stride=2),\n",
        "      nn.LazyConv2d(256, kernel_size=5, padding=2), nn.ReLU(),\n",
        "      nn.MaxPool2d(kernel_size=3, stride=2),\n",
        "      nn.LazyConv2d(384, kernel_size=3, padding=1), nn.ReLU(),\n",
        "      nn.LazyConv2d(384, kernel_size=3, padding=1), nn.ReLU(),\n",
        "      nn.LazyConv2d(256, kernel_size=3, padding=1), nn.ReLU(),\n",
        "      nn.MaxPool2d(kernel_size=3, stride=2), nn.Flatten(),\n",
        "      nn.LazyLinear(4096), nn.ReLU(), nn.Dropout(p=0.5),\n",
        "      nn.LazyLinear(4096), nn.ReLU(), nn.Dropout(p=0.5),\n",
        "      nn.LazyLinear(num_classes)\n",
        "    )\n",
        "\n",
        "  def forward (self, x):\n",
        "    return self.net(x)"
      ]
    },
    {
      "cell_type": "code",
      "execution_count": 9,
      "metadata": {
        "id": "29SRTfqDihVO"
      },
      "outputs": [],
      "source": [
        "#tensors shape summarizer function\n",
        "def layer_summary(net, input_shape):\n",
        "  X = torch.randn(*input_shape)\n",
        "  for layer in net:\n",
        "    X = layer(X)\n",
        "    print(layer.__class__.__name__, 'output shape:\\t', X.shape)"
      ]
    },
    {
      "cell_type": "code",
      "execution_count": 10,
      "metadata": {
        "colab": {
          "base_uri": "https://localhost:8080/"
        },
        "id": "ZYUIqTDliikx",
        "outputId": "bc243031-9cfe-49bc-cb76-319c9c9775ff"
      },
      "outputs": [
        {
          "name": "stdout",
          "output_type": "stream",
          "text": [
            "Conv2d output shape:\t torch.Size([1, 6, 28, 28])\n",
            "Sigmoid output shape:\t torch.Size([1, 6, 28, 28])\n",
            "AvgPool2d output shape:\t torch.Size([1, 6, 14, 14])\n",
            "Conv2d output shape:\t torch.Size([1, 16, 10, 10])\n",
            "Sigmoid output shape:\t torch.Size([1, 16, 10, 10])\n",
            "AvgPool2d output shape:\t torch.Size([1, 16, 5, 5])\n",
            "Flatten output shape:\t torch.Size([1, 400])\n",
            "Linear output shape:\t torch.Size([1, 120])\n",
            "Sigmoid output shape:\t torch.Size([1, 120])\n",
            "Linear output shape:\t torch.Size([1, 84])\n",
            "Sigmoid output shape:\t torch.Size([1, 84])\n",
            "Linear output shape:\t torch.Size([1, 10])\n"
          ]
        },
        {
          "name": "stderr",
          "output_type": "stream",
          "text": [
            "/home/heitor/.local/lib/python3.10/site-packages/torch/nn/modules/lazy.py:178: UserWarning: Lazy modules are a new feature under heavy development so changes to the API or functionality can happen at any moment.\n",
            "  warnings.warn('Lazy modules are a new feature under heavy development '\n"
          ]
        }
      ],
      "source": [
        "model = LeNet(10)\n",
        "layer_summary(model.net, (1, 1, 28, 28))"
      ]
    },
    {
      "cell_type": "code",
      "execution_count": 11,
      "metadata": {
        "colab": {
          "base_uri": "https://localhost:8080/"
        },
        "id": "n5GMyJX2YsqQ",
        "outputId": "d56aacf9-3899-40d9-ef4a-f8014a8b083c"
      },
      "outputs": [
        {
          "name": "stdout",
          "output_type": "stream",
          "text": [
            "Conv2d output shape:\t torch.Size([1, 96, 54, 54])\n",
            "ReLU output shape:\t torch.Size([1, 96, 54, 54])\n",
            "MaxPool2d output shape:\t torch.Size([1, 96, 26, 26])\n",
            "Conv2d output shape:\t torch.Size([1, 256, 26, 26])\n",
            "ReLU output shape:\t torch.Size([1, 256, 26, 26])\n",
            "MaxPool2d output shape:\t torch.Size([1, 256, 12, 12])\n",
            "Conv2d output shape:\t torch.Size([1, 384, 12, 12])\n",
            "ReLU output shape:\t torch.Size([1, 384, 12, 12])\n",
            "Conv2d output shape:\t torch.Size([1, 384, 12, 12])\n",
            "ReLU output shape:\t torch.Size([1, 384, 12, 12])\n",
            "Conv2d output shape:\t torch.Size([1, 256, 12, 12])\n",
            "ReLU output shape:\t torch.Size([1, 256, 12, 12])\n",
            "MaxPool2d output shape:\t torch.Size([1, 256, 5, 5])\n",
            "Flatten output shape:\t torch.Size([1, 6400])\n",
            "Linear output shape:\t torch.Size([1, 4096])\n",
            "ReLU output shape:\t torch.Size([1, 4096])\n",
            "Dropout output shape:\t torch.Size([1, 4096])\n",
            "Linear output shape:\t torch.Size([1, 4096])\n",
            "ReLU output shape:\t torch.Size([1, 4096])\n",
            "Dropout output shape:\t torch.Size([1, 4096])\n",
            "Linear output shape:\t torch.Size([1, 10])\n"
          ]
        }
      ],
      "source": [
        "model = AlexNet(10)\n",
        "layer_summary(model.net, (1, 1, 224, 224))"
      ]
    },
    {
      "cell_type": "code",
      "execution_count": 12,
      "metadata": {},
      "outputs": [
        {
          "name": "stdout",
          "output_type": "stream",
          "text": [
            "Conv2d output shape:\t torch.Size([1, 6, 28, 28])\n",
            "ReLU output shape:\t torch.Size([1, 6, 28, 28])\n",
            "MaxPool2d output shape:\t torch.Size([1, 6, 14, 14])\n",
            "Conv2d output shape:\t torch.Size([1, 16, 10, 10])\n",
            "ReLU output shape:\t torch.Size([1, 16, 10, 10])\n",
            "MaxPool2d output shape:\t torch.Size([1, 16, 5, 5])\n",
            "Flatten output shape:\t torch.Size([1, 400])\n",
            "Linear output shape:\t torch.Size([1, 120])\n",
            "Sigmoid output shape:\t torch.Size([1, 120])\n",
            "Dropout output shape:\t torch.Size([1, 120])\n",
            "Linear output shape:\t torch.Size([1, 84])\n",
            "Sigmoid output shape:\t torch.Size([1, 84])\n",
            "Dropout output shape:\t torch.Size([1, 84])\n",
            "Linear output shape:\t torch.Size([1, 10])\n"
          ]
        }
      ],
      "source": [
        "model = LeNet_2(10)\n",
        "layer_summary(model.net, (1, 1, 28, 28))"
      ]
    },
    {
      "cell_type": "markdown",
      "metadata": {
        "id": "pP3kOQidSFMn"
      },
      "source": [
        "### Preparing - LeNet"
      ]
    },
    {
      "cell_type": "code",
      "execution_count": 13,
      "metadata": {
        "id": "wF9WhNWyR-v6"
      },
      "outputs": [],
      "source": [
        "#Instance of the model\n",
        "model_le = LeNet(10)\n",
        "opt = Adam(model_le.parameters(), lr=1e-3)\n",
        "loss_fn = nn.CrossEntropyLoss()\n",
        "\n",
        "# Training with batches of 128 -> lower batch sizes showed many signals of overfitting\n",
        "batch_size = 128\n",
        "train_loader = utils.data.DataLoader(mnist_training_28, batch_size=batch_size, shuffle=True)"
      ]
    },
    {
      "cell_type": "markdown",
      "metadata": {
        "id": "suM-HYkr_QBT"
      },
      "source": [
        "### Training - LeNet"
      ]
    },
    {
      "cell_type": "code",
      "execution_count": 14,
      "metadata": {
        "colab": {
          "base_uri": "https://localhost:8080/"
        },
        "id": "KStrrFIWEWK6",
        "outputId": "fbab4741-7ee5-47f6-bab0-62f76a3344f0"
      },
      "outputs": [
        {
          "name": "stdout",
          "output_type": "stream",
          "text": [
            "Epoch 0: Loss = 0.4609125852584839\n",
            "Epoch 1: Loss = 0.4546559751033783\n",
            "Epoch 2: Loss = 0.19963759183883667\n",
            "Epoch 3: Loss = 0.1023150309920311\n",
            "Epoch 4: Loss = 0.06971415132284164\n",
            "Epoch 5: Loss = 0.1200936809182167\n",
            "Epoch 6: Loss = 0.06274021416902542\n",
            "Epoch 7: Loss = 0.08075117319822311\n",
            "Epoch 8: Loss = 0.05467166006565094\n",
            "Epoch 9: Loss = 0.04864850640296936\n"
          ]
        }
      ],
      "source": [
        "losses_le = []\n",
        "\n",
        "for epoch in range(10): # Number of Epochs\n",
        "  for imgs, labels in train_loader:\n",
        "    predictions = model_le(imgs)\n",
        "    loss = loss_fn(predictions, labels)\n",
        "\n",
        "    # Backprop\n",
        "    opt.zero_grad()\n",
        "    loss.backward()\n",
        "    opt.step()\n",
        "\n",
        "    losses_le.append(float(loss))\n",
        "  print(f\"Epoch {epoch}: Loss = {float(loss)}\")"
      ]
    },
    {
      "cell_type": "code",
      "execution_count": 15,
      "metadata": {
        "colab": {
          "base_uri": "https://localhost:8080/",
          "height": 472
        },
        "id": "mAbT_LyIVhuv",
        "outputId": "5f48a1a1-9ea7-4b3d-8c18-52ec7fe0e51d"
      },
      "outputs": [
        {
          "data": {
            "image/png": "[encoded data removed]",
            "text/plain": [
              "<Figure size 640x480 with 1 Axes>"
            ]
          },
          "metadata": {},
          "output_type": "display_data"
        }
      ],
      "source": [
        "#Plot losses\n",
        "plt.plot(losses_le, linestyle='-', color='blue')\n",
        "plt.title('Losses')\n",
        "plt.xlabel('Epoch')\n",
        "plt.ylabel('Loss')\n",
        "plt.grid(True)\n",
        "plt.show()"
      ]
    },
    {
      "cell_type": "markdown",
      "metadata": {},
      "source": [
        "### Accuracy"
      ]
    },
    {
      "cell_type": "code",
      "execution_count": 16,
      "metadata": {
        "colab": {
          "base_uri": "https://localhost:8080/"
        },
        "id": "gRpsPquCJI77",
        "outputId": "7aba607c-ba30-4da5-e7da-6bee869beb5a"
      },
      "outputs": [
        {
          "name": "stdout",
          "output_type": "stream",
          "text": [
            "Total Accuracy: 0.9792\n"
          ]
        }
      ],
      "source": [
        "batch_size_test = 10000\n",
        "test_loader = utils.data.DataLoader(mnist_test_28, batch_size=batch_size_test)\n",
        "\n",
        "# Image tensor has shape (10000, 1, 28, 28)\n",
        "imgs, labels = next(iter(test_loader))\n",
        "\n",
        "# Calculates the results for all the images, returning us a tensor of shape (10000, 10)\n",
        "# imgs[i][j] => i -> image; j -> the score for that number [0-1]\n",
        "predictions = model_le(imgs)\n",
        "\n",
        "# For each row determine the columns with the highest score, the prediction\n",
        "predicted_classes = torch.argmax(predictions, dim=1)\n",
        "\n",
        "#Calculate the multiclass accuracy\n",
        "class_accuracy_metric = Accuracy(task='multiclass', num_classes=10, average=None)\n",
        "class_accuracy_metric(predicted_classes, labels)\n",
        "class_accuracy = class_accuracy_metric.compute()\n",
        "\n",
        "# Calculate the total accuracy\n",
        "total_accuracy = (predicted_classes == labels).float().mean().item()\n",
        "\n",
        "print(f\"Total Accuracy: {total_accuracy:.4f}\")"
      ]
    },
    {
      "cell_type": "code",
      "execution_count": 17,
      "metadata": {
        "colab": {
          "base_uri": "https://localhost:8080/",
          "height": 472
        },
        "id": "Kfr52SHOlcAR",
        "outputId": "29c79d8e-988b-4a60-e495-d397ba6efab7"
      },
      "outputs": [
        {
          "data": {
            "image/png": "[encoded data removed]",
            "text/plain": [
              "<Figure size 640x480 with 1 Axes>"
            ]
          },
          "metadata": {},
          "output_type": "display_data"
        }
      ],
      "source": [
        "# Plotting the per-class accuracy\n",
        "class_indices = range(10)\n",
        "\n",
        "plt.plot(class_indices, class_accuracy, marker='o')\n",
        "plt.xlabel('Class')\n",
        "plt.ylabel('Accuracy')\n",
        "plt.title('Per-Class Accuracy')\n",
        "plt.ylim(0, 1.2)\n",
        "plt.xticks(class_indices)\n",
        "\n",
        "# Add labels to each marker\n",
        "for x, y in zip(class_indices, class_accuracy):\n",
        "    plt.text(x, y, f'{y:.2f}', ha='center', va='bottom')\n",
        "\n",
        "plt.show()"
      ]
    },
    {
      "cell_type": "markdown",
      "metadata": {
        "id": "dwc2s_NJoeym"
      },
      "source": [
        "### Precision\n",
        "Measures the accuracy of the positive predictions made by the model.\n",
        "\n",
        "It can be described as: true positives / (true positives + false positives)"
      ]
    },
    {
      "cell_type": "code",
      "execution_count": 18,
      "metadata": {
        "id": "24ymHLYPoeWf"
      },
      "outputs": [],
      "source": [
        "# Calculating the precision for each class\n",
        "class_precision_metric = Precision(task='multiclass', num_classes=10, average=None)\n",
        "class_precision_metric(predicted_classes, labels)\n",
        "class_precision = class_precision_metric.compute()"
      ]
    },
    {
      "cell_type": "code",
      "execution_count": 19,
      "metadata": {
        "colab": {
          "base_uri": "https://localhost:8080/",
          "height": 472
        },
        "id": "uBBwMEdouWI9",
        "outputId": "40a30eeb-ea38-44e7-ba2a-b50748c52804"
      },
      "outputs": [
        {
          "data": {
            "image/png": "[encoded data removed]",
            "text/plain": [
              "<Figure size 640x480 with 1 Axes>"
            ]
          },
          "metadata": {},
          "output_type": "display_data"
        }
      ],
      "source": [
        "# Plotting the per-class precision\n",
        "class_indices = range(10)\n",
        "\n",
        "plt.plot(class_indices, class_precision, marker='o')\n",
        "plt.xlabel('Class')\n",
        "plt.ylabel('Precision')\n",
        "plt.title('Per-Class Precision')\n",
        "plt.ylim(0, 1.2)\n",
        "plt.xticks(class_indices)\n",
        "\n",
        "# Add labels to each marker\n",
        "for x, y in zip(class_indices, class_precision):\n",
        "    plt.text(x, y, f'{y:.2f}', ha='center', va='bottom')\n",
        "\n",
        "plt.show()"
      ]
    },
    {
      "cell_type": "markdown",
      "metadata": {
        "id": "CoxSpaDqtp2-"
      },
      "source": [
        "### Recall\n",
        "Measures the ability of the model to predict positive samples correctly\n",
        "\n",
        "It can be described as: true positives / (true positives + false negatives)"
      ]
    },
    {
      "cell_type": "code",
      "execution_count": 20,
      "metadata": {
        "id": "gn-iFXkMtqAA"
      },
      "outputs": [],
      "source": [
        "# Calculating the recall for each class\n",
        "class_recall_metric = Recall(task='multiclass', num_classes=10, average=None)\n",
        "class_recall_metric(predicted_classes, labels)\n",
        "class_recall = class_recall_metric.compute()"
      ]
    },
    {
      "cell_type": "code",
      "execution_count": 21,
      "metadata": {
        "colab": {
          "base_uri": "https://localhost:8080/",
          "height": 472
        },
        "id": "9X-7YvFju778",
        "outputId": "f145feb3-36ee-4ccb-e5be-30421065533e"
      },
      "outputs": [
        {
          "data": {
            "image/png": "[encoded data removed]",
            "text/plain": [
              "<Figure size 640x480 with 1 Axes>"
            ]
          },
          "metadata": {},
          "output_type": "display_data"
        }
      ],
      "source": [
        "# Plotting the recall\n",
        "class_indices = range(10)\n",
        "\n",
        "plt.plot(class_indices, class_recall, marker='o')\n",
        "plt.xlabel('Class')\n",
        "plt.ylabel('Recall')\n",
        "plt.title('Per-Class Recall')\n",
        "plt.ylim(0, 1.2)\n",
        "plt.xticks(class_indices)\n",
        "\n",
        "# Add labels to each marker\n",
        "for x, y in zip(class_indices, class_recall):\n",
        "    plt.text(x, y, f'{y:.2f}', ha='center', va='bottom')\n",
        "\n",
        "plt.show()"
      ]
    },
    {
      "cell_type": "markdown",
      "metadata": {},
      "source": [
        "### Preparing - LeNet 2"
      ]
    },
    {
      "cell_type": "code",
      "execution_count": 22,
      "metadata": {},
      "outputs": [
        {
          "name": "stderr",
          "output_type": "stream",
          "text": [
            "/home/heitor/.local/lib/python3.10/site-packages/torch/nn/modules/lazy.py:178: UserWarning: Lazy modules are a new feature under heavy development so changes to the API or functionality can happen at any moment.\n",
            "  warnings.warn('Lazy modules are a new feature under heavy development '\n"
          ]
        }
      ],
      "source": [
        "#Instance of the model\n",
        "model_le_2 = LeNet_2(10)\n",
        "opt_2 = Adam(model_le_2.parameters(), lr=1e-3)\n",
        "loss_fn = nn.CrossEntropyLoss()\n",
        "\n",
        "# Training with batches of 128 -> lower batch sizes showed many signals of overfitting\n",
        "batch_size = 128\n",
        "train_loader_2 = utils.data.DataLoader(mnist_training_28, batch_size=batch_size, shuffle=True)"
      ]
    },
    {
      "cell_type": "markdown",
      "metadata": {},
      "source": [
        "### Training - LeNet 2"
      ]
    },
    {
      "cell_type": "code",
      "execution_count": 23,
      "metadata": {},
      "outputs": [
        {
          "name": "stdout",
          "output_type": "stream",
          "text": [
            "Epoch 0: Loss = 0.34910452365875244\n",
            "Epoch 1: Loss = 0.26330599188804626\n",
            "Epoch 2: Loss = 0.071400485932827\n",
            "Epoch 3: Loss = 0.12331230193376541\n",
            "Epoch 4: Loss = 0.2123749852180481\n",
            "Epoch 5: Loss = 0.08021686226129532\n",
            "Epoch 6: Loss = 0.049891117960214615\n",
            "Epoch 7: Loss = 0.06168626621365547\n",
            "Epoch 8: Loss = 0.09209421277046204\n",
            "Epoch 9: Loss = 0.09026140719652176\n"
          ]
        }
      ],
      "source": [
        "losses_le_2 = []\n",
        "\n",
        "for epoch in range(10): # Number of Epochs\n",
        "  for imgs, labels in train_loader_2:\n",
        "    predictions = model_le_2(imgs)\n",
        "    loss = loss_fn(predictions, labels)\n",
        "\n",
        "    # Backprop\n",
        "    opt_2.zero_grad()\n",
        "    loss.backward()\n",
        "    opt_2.step()\n",
        "\n",
        "    losses_le_2.append(float(loss))\n",
        "  print(f\"Epoch {epoch}: Loss = {float(loss)}\")"
      ]
    },
    {
      "cell_type": "code",
      "execution_count": 24,
      "metadata": {},
      "outputs": [
        {
          "data": {
            "image/png": "[encoded data removed]",
            "text/plain": [
              "<Figure size 640x480 with 1 Axes>"
            ]
          },
          "metadata": {},
          "output_type": "display_data"
        }
      ],
      "source": [
        "#Plot losses\n",
        "plt.plot(losses_le_2, linestyle='-', color='blue')\n",
        "plt.title('Losses')\n",
        "plt.xlabel('Epoch')\n",
        "plt.ylabel('Loss')\n",
        "plt.grid(True)\n",
        "plt.show()"
      ]
    },
    {
      "cell_type": "markdown",
      "metadata": {
        "id": "HeKqu2WfJNBJ"
      },
      "source": [
        "### Accuracy"
      ]
    },
    {
      "cell_type": "code",
      "execution_count": 25,
      "metadata": {},
      "outputs": [
        {
          "name": "stdout",
          "output_type": "stream",
          "text": [
            "Total Accuracy: 0.9826\n"
          ]
        }
      ],
      "source": [
        "batch_size_test = 10000\n",
        "test_loader = utils.data.DataLoader(mnist_test_28, batch_size=batch_size_test)\n",
        "\n",
        "# Image tensor has shape (10000, 1, 28, 28)\n",
        "imgs, labels = next(iter(test_loader))\n",
        "\n",
        "# Calculates the results for all the images, returning us a tensor of shape (10000, 10)\n",
        "# imgs[i][j] => i -> image; j -> the score for that number [0-1]\n",
        "predictions = model_le_2(imgs)\n",
        "\n",
        "# For each row determine the columns with the highest score, the prediction\n",
        "predicted_classes = torch.argmax(predictions, dim=1)\n",
        "\n",
        "#Calculate the multiclass accuracy\n",
        "class_accuracy_metric = Accuracy(task='multiclass', num_classes=10, average=None)\n",
        "class_accuracy_metric(predicted_classes, labels)\n",
        "class_accuracy = class_accuracy_metric.compute()\n",
        "\n",
        "# Calculate the total accuracy\n",
        "total_accuracy = (predicted_classes == labels).float().mean().item()\n",
        "\n",
        "print(f\"Total Accuracy: {total_accuracy:.4f}\")"
      ]
    },
    {
      "cell_type": "code",
      "execution_count": 26,
      "metadata": {},
      "outputs": [
        {
          "data": {
            "image/png": "[encoded data removed]",
            "text/plain": [
              "<Figure size 640x480 with 1 Axes>"
            ]
          },
          "metadata": {},
          "output_type": "display_data"
        }
      ],
      "source": [
        "# Plotting the per-class accuracy\n",
        "class_indices = range(10)\n",
        "\n",
        "plt.plot(class_indices, class_accuracy, marker='o')\n",
        "plt.xlabel('Class')\n",
        "plt.ylabel('Accuracy')\n",
        "plt.title('Per-Class Accuracy')\n",
        "plt.ylim(0, 1.2)\n",
        "plt.xticks(class_indices)\n",
        "\n",
        "# Add labels to each marker\n",
        "for x, y in zip(class_indices, class_accuracy):\n",
        "    plt.text(x, y, f'{y:.2f}', ha='center', va='bottom')\n",
        "\n",
        "plt.show()"
      ]
    },
    {
      "cell_type": "markdown",
      "metadata": {},
      "source": [
        "### Precision"
      ]
    },
    {
      "cell_type": "code",
      "execution_count": 27,
      "metadata": {},
      "outputs": [],
      "source": [
        "# Calculating the precision for each class\n",
        "class_precision_metric = Precision(task='multiclass', num_classes=10, average=None)\n",
        "class_precision_metric(predicted_classes, labels)\n",
        "class_precision = class_precision_metric.compute()"
      ]
    },
    {
      "cell_type": "code",
      "execution_count": 28,
      "metadata": {},
      "outputs": [
        {
          "data": {
            "image/png": "[encoded data removed]",
            "text/plain": [
              "<Figure size 640x480 with 1 Axes>"
            ]
          },
          "metadata": {},
          "output_type": "display_data"
        }
      ],
      "source": [
        "# Plotting the per-class precision\n",
        "class_indices = range(10)\n",
        "\n",
        "plt.plot(class_indices, class_precision, marker='o')\n",
        "plt.xlabel('Class')\n",
        "plt.ylabel('Precision')\n",
        "plt.title('Per-Class Precision')\n",
        "plt.ylim(0, 1.2)\n",
        "plt.xticks(class_indices)\n",
        "\n",
        "# Add labels to each marker\n",
        "for x, y in zip(class_indices, class_precision):\n",
        "    plt.text(x, y, f'{y:.2f}', ha='center', va='bottom')\n",
        "\n",
        "plt.show()"
      ]
    },
    {
      "cell_type": "markdown",
      "metadata": {},
      "source": [
        "### Recall\n"
      ]
    },
    {
      "cell_type": "code",
      "execution_count": 29,
      "metadata": {},
      "outputs": [],
      "source": [
        "# Calculating the recall for each class\n",
        "class_recall_metric = Recall(task='multiclass', num_classes=10, average=None)\n",
        "class_recall_metric(predicted_classes, labels)\n",
        "class_recall = class_recall_metric.compute()"
      ]
    },
    {
      "cell_type": "code",
      "execution_count": 30,
      "metadata": {},
      "outputs": [
        {
          "data": {
            "image/png": "[encoded data removed]",
            "text/plain": [
              "<Figure size 640x480 with 1 Axes>"
            ]
          },
          "metadata": {},
          "output_type": "display_data"
        }
      ],
      "source": [
        "# Plotting the recall\n",
        "class_indices = range(10)\n",
        "\n",
        "plt.plot(class_indices, class_recall, marker='o')\n",
        "plt.xlabel('Class')\n",
        "plt.ylabel('Recall')\n",
        "plt.title('Per-Class Recall')\n",
        "plt.ylim(0, 1.2)\n",
        "plt.xticks(class_indices)\n",
        "\n",
        "# Add labels to each marker\n",
        "for x, y in zip(class_indices, class_recall):\n",
        "    plt.text(x, y, f'{y:.2f}', ha='center', va='bottom')\n",
        "\n",
        "plt.show()"
      ]
    },
    {
      "cell_type": "markdown",
      "metadata": {
        "id": "Vfrnp50Qcicj"
      },
      "source": [
        "### Preparing - AlexNet"
      ]
    },
    {
      "cell_type": "code",
      "execution_count": 31,
      "metadata": {
        "id": "UFzn8DeJbbMY"
      },
      "outputs": [
        {
          "name": "stderr",
          "output_type": "stream",
          "text": [
            "/home/heitor/.local/lib/python3.10/site-packages/torch/nn/modules/lazy.py:178: UserWarning: Lazy modules are a new feature under heavy development so changes to the API or functionality can happen at any moment.\n",
            "  warnings.warn('Lazy modules are a new feature under heavy development '\n"
          ]
        }
      ],
      "source": [
        "#Instance of the model\n",
        "model_alex = AlexNet(10)\n",
        "opt_alex = Adam(model_alex.parameters(), lr=1e-3)\n",
        "loss_fn = nn.CrossEntropyLoss()\n",
        "\n",
        "# Training with batches of 128 -> lower batch sizes showed many signals of overfitting\n",
        "batch_size = 128\n",
        "train_loader_alex = utils.data.DataLoader(mnist_training_224, batch_size=batch_size, shuffle=True)"
      ]
    },
    {
      "cell_type": "markdown",
      "metadata": {
        "id": "0Dwp9kRqcm1l"
      },
      "source": [
        "### Training - AlexNet\n",
        "\n",
        "The process of training/testing was really long and tough, comparing to the other architechtures, there's just a little much to improve, so we are going to proceed in testing another alternatives for improvement of the results. Training a really wide + deep network in computers that weren't adequate isn't an easy task. \n",
        "\n",
        "Although we've had a lot of trouble training and testing, we've arrived to some results. The total accuracy was higher, but not significantly, some models can be easier to train and still have some great result withou all this pain"
      ]
    },
    {
      "cell_type": "code",
      "execution_count": 32,
      "metadata": {
        "id": "tY_gzY2-bt8_"
      },
      "outputs": [
        {
          "name": "stdout",
          "output_type": "stream",
          "text": [
            "Epoch 0: Loss = 0.08268454670906067\n",
            "Epoch 1: Loss = 0.11645566672086716\n",
            "Epoch 2: Loss = 0.013871601782739162\n",
            "Epoch 3: Loss = 0.016680410131812096\n",
            "Epoch 4: Loss = 0.030279777944087982\n",
            "Epoch 5: Loss = 0.08899936825037003\n",
            "Epoch 6: Loss = 0.007662383373826742\n",
            "Epoch 7: Loss = 0.01114968117326498\n",
            "Epoch 8: Loss = 0.001201842911541462\n",
            "Epoch 9: Loss = 0.02312086522579193\n"
          ]
        }
      ],
      "source": [
        "losses_al = []\n",
        "\n",
        "for epoch in range(10): # Number of Epochs\n",
        "  for imgs, labels in train_loader_alex:\n",
        "    predictions = model_alex(imgs)\n",
        "    loss = loss_fn(predictions, labels)\n",
        "\n",
        "    # Backprop\n",
        "    opt_alex.zero_grad()\n",
        "    loss.backward()\n",
        "    opt_alex.step()\n",
        "\n",
        "    losses_al.append(float(loss))\n",
        "  print(f\"Epoch {epoch}: Loss = {float(loss)}\")\n",
        "\n",
        "\n",
        "#saving the model to avoid further errors -> out of memory\n",
        "with open('model_state.pt', 'wb') as f:\n",
        "  save(model_alex.state_dict(), f)"
      ]
    },
    {
      "cell_type": "code",
      "execution_count": 33,
      "metadata": {
        "id": "GTJnok7wcexn"
      },
      "outputs": [
        {
          "data": {
            "image/png": "[encoded data removed]",
            "text/plain": [
              "<Figure size 640x480 with 1 Axes>"
            ]
          },
          "metadata": {},
          "output_type": "display_data"
        }
      ],
      "source": [
        "#Plot losses\n",
        "plt.plot(losses_al, linestyle='-', color='blue')\n",
        "plt.title('Losses')\n",
        "plt.xlabel('Epoch')\n",
        "plt.ylabel('Loss')\n",
        "plt.grid(True)\n",
        "plt.show()"
      ]
    },
    {
      "cell_type": "code",
      "execution_count": 32,
      "metadata": {},
      "outputs": [],
      "source": [
        "#getting the saved model from model_state\n",
        "with open('model_state.pt', 'rb') as f:\n",
        "    model_alex.load_state_dict(load(f))"
      ]
    },
    {
      "cell_type": "markdown",
      "metadata": {
        "id": "v8hueJILcwmb"
      },
      "source": [
        "### Accuracy"
      ]
    },
    {
      "cell_type": "code",
      "execution_count": 33,
      "metadata": {
        "id": "o-caLcggcwWo"
      },
      "outputs": [
        {
          "name": "stdout",
          "output_type": "stream",
          "text": [
            "Total Accuracy: 0.9892\n"
          ]
        }
      ],
      "source": [
        "batch_size_test = 100\n",
        "test_loader_alex = utils.data.DataLoader(mnist_test_224, batch_size=batch_size_test)\n",
        "\n",
        "predicted_classes_list = []\n",
        "labels_list = []\n",
        "\n",
        "for imgs, labels in test_loader_alex:\n",
        "    predictions = model_alex(imgs)\n",
        "    predicted_classes_list.append(torch.argmax(predictions, dim=1))\n",
        "    labels_list.append(labels)\n",
        "\n",
        "predicted_classes = torch.cat(predicted_classes_list, dim=0)\n",
        "labels = torch.cat(labels_list, dim=0)\n",
        "   \n",
        "\n",
        "#Calculate the multiclass accuracy\n",
        "class_accuracy_metric = Accuracy(task='multiclass', num_classes=10, average=None)\n",
        "class_accuracy_metric(predicted_classes, labels)\n",
        "class_accuracy = class_accuracy_metric.compute()\n",
        "\n",
        "# Calculate the total accuracy\n",
        "total_accuracy = (predicted_classes == labels).float().mean().item()\n",
        "\n",
        "print(f\"Total Accuracy: {total_accuracy:.4f}\")"
      ]
    },
    {
      "cell_type": "code",
      "execution_count": 34,
      "metadata": {
        "id": "V1esdKeRc3xa"
      },
      "outputs": [
        {
          "data": {
            "image/png": "[encoded data removed]",
            "text/plain": [
              "<Figure size 640x480 with 1 Axes>"
            ]
          },
          "metadata": {},
          "output_type": "display_data"
        }
      ],
      "source": [
        "# Plotting the per-class accuracy\n",
        "class_indices = range(10)\n",
        "\n",
        "plt.plot(class_indices, class_accuracy, marker='o')\n",
        "plt.xlabel('Class')\n",
        "plt.ylabel('Accuracy')\n",
        "plt.title('Per-Class Accuracy')\n",
        "plt.ylim(0, 1.2)\n",
        "plt.xticks(class_indices)\n",
        "\n",
        "# Add labels to each marker\n",
        "for x, y in zip(class_indices, class_accuracy):\n",
        "    plt.text(x, y, f'{y:.2f}', ha='center', va='bottom')\n",
        "\n",
        "plt.show()"
      ]
    },
    {
      "cell_type": "markdown",
      "metadata": {
        "id": "-7g6de05c3TN"
      },
      "source": [
        "### Precision\n",
        "Measures the accuracy of the positive predictions made by the model.\n",
        "\n",
        "It can be described as: true positives / (true positives + false positives)"
      ]
    },
    {
      "cell_type": "code",
      "execution_count": 35,
      "metadata": {
        "id": "d2fnmeg2dHEi"
      },
      "outputs": [],
      "source": [
        "# Calculating the precision for each class\n",
        "class_precision_metric = Precision(task='multiclass', num_classes=10, average=None)\n",
        "class_precision_metric(predicted_classes, labels)\n",
        "class_precision = class_precision_metric.compute()"
      ]
    },
    {
      "cell_type": "code",
      "execution_count": 36,
      "metadata": {
        "id": "_wCj08fCdJby"
      },
      "outputs": [
        {
          "data": {
            "image/png": "[encoded data removed]",
            "text/plain": [
              "<Figure size 640x480 with 1 Axes>"
            ]
          },
          "metadata": {},
          "output_type": "display_data"
        }
      ],
      "source": [
        "# Plotting the per-class precision\n",
        "class_indices = range(10)\n",
        "\n",
        "plt.plot(class_indices, class_precision, marker='o')\n",
        "plt.xlabel('Class')\n",
        "plt.ylabel('Precision')\n",
        "plt.title('Per-Class Precision')\n",
        "plt.ylim(0, 1.2)\n",
        "plt.xticks(class_indices)\n",
        "\n",
        "# Add labels to each marker\n",
        "for x, y in zip(class_indices, class_precision):\n",
        "    plt.text(x, y, f'{y:.2f}', ha='center', va='bottom')\n",
        "\n",
        "plt.show()"
      ]
    },
    {
      "cell_type": "markdown",
      "metadata": {
        "id": "jQWHAPQjdRIj"
      },
      "source": [
        "### Recall\n",
        "Measures the ability of the model to predict positive samples correctly\n",
        "\n",
        "It can be described as: true positives / (true positives + false negatives)"
      ]
    },
    {
      "cell_type": "code",
      "execution_count": 37,
      "metadata": {
        "id": "kOCvkJI6dL56"
      },
      "outputs": [],
      "source": [
        "# Calculating the recall for each class\n",
        "class_recall_metric = Recall(task='multiclass', num_classes=10, average=None)\n",
        "class_recall_metric(predicted_classes, labels)\n",
        "class_recall = class_recall_metric.compute()"
      ]
    },
    {
      "cell_type": "code",
      "execution_count": null,
      "metadata": {},
      "outputs": [],
      "source": [
        "# Plotting the recall\n",
        "class_indices = range(10)\n",
        "\n",
        "plt.plot(class_indices, class_recall, marker='o')\n",
        "plt.xlabel('Class')\n",
        "plt.ylabel('Recall')\n",
        "plt.title('Per-Class Recall')\n",
        "plt.ylim(0, 1.2)\n",
        "plt.xticks(class_indices)\n",
        "\n",
        "# Add labels to each marker\n",
        "for x, y in zip(class_indices, class_recall):\n",
        "    plt.text(x, y, f'{y:.2f}', ha='center', va='bottom')\n",
        "\n",
        "plt.show()"
      ]
    },
    {
      "cell_type": "markdown",
      "metadata": {},
      "source": [
        "Data Augumentation"
      ]
    },
    {
      "cell_type": "markdown",
      "metadata": {},
      "source": [
        "LeNet"
      ]
    },
    {
      "cell_type": "code",
      "execution_count": null,
      "metadata": {},
      "outputs": [],
      "source": [
        "data_transform = transforms.Compose(\n",
        "                    [\n",
        "                      transforms.RandomRotation(15),\n",
        "                      transforms.ToTensor()\n",
        "                    ])\n",
        "mnist_original = datasets.MNIST(root='/tmp/mnist', train=True, download=True, transform=transforms.ToTensor())\n",
        "\n",
        "# Create augmented dataset by applying data augmentation to the original dataset\n",
        "mnist_augmented = datasets.MNIST(root='/tmp/mnist', train=True, download=True, transform=data_transform)\n",
        "\n",
        "# Concatenate the original dataset and augmented dataset\n",
        "combined_dataset = torch.utils.data.ConcatDataset([mnist_original, mnist_augmented])\n",
        "\n",
        "# Load datasets for both training and testing using the data augmentation transformations\n",
        "mnist_training_28 = combined_dataset\n",
        "mnist_test_28 = datasets.MNIST(root='/tmp/mnist', train=False, download=True, transform=transforms.ToTensor())\n",
        "print(f\"Training dataset size: {len(mnist_training_28)}\")\n",
        "print(f\"Testing dataset size: {len(mnist_test_28)}\")"
      ]
    },
    {
      "cell_type": "code",
      "execution_count": null,
      "metadata": {},
      "outputs": [],
      "source": [
        "#Instance of the model\n",
        "model_le_2 = LeNet_2(10)\n",
        "opt_2 = Adam(model_le_2.parameters(), lr=1e-3)\n",
        "loss_fn = nn.CrossEntropyLoss()\n",
        "\n",
        "# Training with batches of 128 -> lower batch sizes showed many signals of overfitting\n",
        "batch_size = 128\n",
        "train_loader_2 = utils.data.DataLoader(mnist_training_28, batch_size=batch_size, shuffle=True)"
      ]
    },
    {
      "cell_type": "code",
      "execution_count": null,
      "metadata": {},
      "outputs": [],
      "source": [
        "losses_le_2 = []\n",
        "\n",
        "for epoch in range(10): # Number of Epochs\n",
        "  for imgs, labels in train_loader_2:\n",
        "    predictions = model_le_2(imgs)\n",
        "    loss = loss_fn(predictions, labels)\n",
        "\n",
        "    # Backprop\n",
        "    opt_2.zero_grad()\n",
        "    loss.backward()\n",
        "    opt_2.step()\n",
        "\n",
        "    losses_le_2.append(float(loss))\n",
        "  print(f\"Epoch {epoch}: Loss = {float(loss)}\")"
      ]
    },
    {
      "cell_type": "code",
      "execution_count": null,
      "metadata": {},
      "outputs": [],
      "source": [
        "#Plot losses\n",
        "plt.plot(losses_le_2, linestyle='-', color='blue')\n",
        "plt.title('Losses')\n",
        "plt.xlabel('Epoch')\n",
        "plt.ylabel('Loss')\n",
        "plt.grid(True)\n",
        "plt.show()"
      ]
    },
    {
      "cell_type": "markdown",
      "metadata": {},
      "source": [
        "Accuracy"
      ]
    },
    {
      "cell_type": "code",
      "execution_count": null,
      "metadata": {},
      "outputs": [],
      "source": [
        "batch_size_test = 10000\n",
        "test_loader = utils.data.DataLoader(mnist_test_28, batch_size=batch_size_test)\n",
        "\n",
        "# Image tensor has shape (10000, 1, 28, 28)\n",
        "imgs, labels = next(iter(test_loader))\n",
        "\n",
        "# Calculates the results for all the images, returning us a tensor of shape (10000, 10)\n",
        "# imgs[i][j] => i -> image; j -> the score for that number [0-1]\n",
        "predictions = model_le_2(imgs)\n",
        "\n",
        "# For each row determine the columns with the highest score, the prediction\n",
        "predicted_classes = torch.argmax(predictions, dim=1)\n",
        "\n",
        "#Calculate the multiclass accuracy\n",
        "class_accuracy_metric = Accuracy(task='multiclass', num_classes=10, average=None)\n",
        "class_accuracy_metric(predicted_classes, labels)\n",
        "class_accuracy = class_accuracy_metric.compute()\n",
        "\n",
        "# Calculate the total accuracy\n",
        "total_accuracy = (predicted_classes == labels).float().mean().item()\n",
        "\n",
        "print(f\"Total Accuracy: {total_accuracy:.4f}\")"
      ]
    },
    {
      "cell_type": "code",
      "execution_count": null,
      "metadata": {},
      "outputs": [],
      "source": [
        "# Plotting the per-class accuracy\n",
        "class_indices = range(10)\n",
        "\n",
        "plt.plot(class_indices, class_accuracy, marker='o')\n",
        "plt.xlabel('Class')\n",
        "plt.ylabel('Accuracy')\n",
        "plt.title('Per-Class Accuracy')\n",
        "plt.ylim(0, 1.2)\n",
        "plt.xticks(class_indices)\n",
        "\n",
        "# Add labels to each marker\n",
        "for x, y in zip(class_indices, class_accuracy):\n",
        "    plt.text(x, y, f'{y:.2f}', ha='center', va='bottom')\n",
        "\n",
        "plt.show()"
      ]
    },
    {
      "cell_type": "markdown",
      "metadata": {},
      "source": [
        "Precision"
      ]
    },
    {
      "cell_type": "code",
      "execution_count": null,
      "metadata": {},
      "outputs": [],
      "source": [
        "# Calculating the precision for each class\n",
        "class_precision_metric = Precision(task='multiclass', num_classes=10, average=None)\n",
        "class_precision_metric(predicted_classes, labels)\n",
        "class_precision = class_precision_metric.compute()"
      ]
    },
    {
      "cell_type": "code",
      "execution_count": null,
      "metadata": {},
      "outputs": [],
      "source": [
        "# Plotting the per-class precision\n",
        "class_indices = range(10)\n",
        "\n",
        "plt.plot(class_indices, class_precision, marker='o')\n",
        "plt.xlabel('Class')\n",
        "plt.ylabel('Precision')\n",
        "plt.title('Per-Class Precision')\n",
        "plt.ylim(0, 1.2)\n",
        "plt.xticks(class_indices)\n",
        "\n",
        "# Add labels to each marker\n",
        "for x, y in zip(class_indices, class_precision):\n",
        "    plt.text(x, y, f'{y:.2f}', ha='center', va='bottom')\n",
        "\n",
        "plt.show()"
      ]
    },
    {
      "cell_type": "markdown",
      "metadata": {},
      "source": [
        "Recall"
      ]
    },
    {
      "cell_type": "code",
      "execution_count": null,
      "metadata": {},
      "outputs": [],
      "source": [
        "# Calculating the recall for each class\n",
        "class_recall_metric = Recall(task='multiclass', num_classes=10, average=None)\n",
        "class_recall_metric(predicted_classes, labels)\n",
        "class_recall = class_recall_metric.compute()"
      ]
    },
    {
      "cell_type": "code",
      "execution_count": null,
      "metadata": {},
      "outputs": [],
      "source": [
        "# Plotting the recall\n",
        "class_indices = range(10)\n",
        "\n",
        "plt.plot(class_indices, class_recall, marker='o')\n",
        "plt.xlabel('Class')\n",
        "plt.ylabel('Recall')\n",
        "plt.title('Per-Class Recall')\n",
        "plt.ylim(0, 1.2)\n",
        "plt.xticks(class_indices)\n",
        "\n",
        "# Add labels to each marker\n",
        "for x, y in zip(class_indices, class_recall):\n",
        "    plt.text(x, y, f'{y:.2f}', ha='center', va='bottom')\n",
        "\n",
        "plt.show()"
      ]
    },
    {
      "cell_type": "markdown",
      "metadata": {},
      "source": [
        "Other AlexNet"
      ]
    },
    {
      "cell_type": "code",
      "execution_count": null,
      "metadata": {},
      "outputs": [],
      "source": [
        "import torch\n",
        "import torchvision\n",
        "import numpy as np\n",
        "import matplotlib.pyplot as plt"
      ]
    },
    {
      "cell_type": "code",
      "execution_count": null,
      "metadata": {},
      "outputs": [],
      "source": [
        "from helper_evaluation import set_all_seeds, set_deterministic, compute_confusion_matrix\n",
        "from helper_train import train_model\n",
        "from helper_plotting import plot_training_loss, plot_accuracy, show_examples, plot_confusion_matrix\n",
        "from helper_dataset import get_dataloaders_mnist, UnNormalize\n"
      ]
    },
    {
      "cell_type": "code",
      "execution_count": null,
      "metadata": {},
      "outputs": [],
      "source": [
        "RANDOM_SEED = 123\n",
        "BATCH_SIZE = 256\n",
        "NUM_EPOCHS = 20\n",
        "DEVICE = torch.device('cuda:0' if torch.cuda.is_available() else 'cpu')\n",
        "set_all_seeds(RANDOM_SEED)\n",
        "#set_deterministic()"
      ]
    },
    {
      "cell_type": "code",
      "execution_count": null,
      "metadata": {},
      "outputs": [],
      "source": [
        "import torchvision.transforms as transforms\n",
        "\n",
        "train_transforms = transforms.Compose([\n",
        "    transforms.Resize((70, 70)),\n",
        "    transforms.RandomCrop((64, 64)),\n",
        "    transforms.ToTensor(),\n",
        "    transforms.Normalize((0.5,), (0.5,))  # Grayscale images have only one channel, so use a single value for mean and std.\n",
        "])\n",
        "\n",
        "test_transforms = transforms.Compose([\n",
        "    transforms.Resize((70, 70)),        \n",
        "    transforms.CenterCrop((64, 64)),            \n",
        "    transforms.ToTensor(),\n",
        "    transforms.Normalize((0.5,), (0.5,))\n",
        "])\n",
        "\n",
        "# Assuming you have a function named get_dataloaders_mnist that loads the MNIST dataset.\n",
        "train_loader, valid_loader, test_loader = get_dataloaders_mnist(\n",
        "    batch_size=BATCH_SIZE,\n",
        "    validation_fraction=0.1,\n",
        "    train_transforms=train_transforms,\n",
        "    test_transforms=test_transforms,\n",
        "    num_workers=2\n",
        ")\n",
        "\n",
        "\n",
        "# Checking the dataset\n",
        "for images, labels in train_loader:  \n",
        "    print('Image batch dimensions:', images.shape)\n",
        "    print('Image label dimensions:', labels.shape)\n",
        "    print('Class labels of 10 examples:', labels[:10])\n",
        "    break"
      ]
    },
    {
      "cell_type": "code",
      "execution_count": null,
      "metadata": {},
      "outputs": [],
      "source": [
        "class AlexNet(torch.nn.Module):\n",
        "    \n",
        "    def __init__(self, num_classes):\n",
        "        super().__init__()\n",
        "        self.features = torch.nn.Sequential(\n",
        "            torch.nn.Conv2d(1, 64, kernel_size=11, stride=4, padding=2),\n",
        "            torch.nn.ReLU(inplace=True),\n",
        "            torch.nn.MaxPool2d(kernel_size=3, stride=2),\n",
        "            torch.nn.Conv2d(64, 192, kernel_size=5, padding=2),\n",
        "            torch.nn.ReLU(inplace=True),\n",
        "            torch.nn.MaxPool2d(kernel_size=3, stride=2),\n",
        "            torch.nn.Conv2d(192, 384, kernel_size=3, padding=1),\n",
        "            torch.nn.ReLU(inplace=True),\n",
        "            torch.nn.Conv2d(384, 256, kernel_size=3, padding=1),\n",
        "            torch.nn.ReLU(inplace=True),\n",
        "            torch.nn.Conv2d(256, 256, kernel_size=3, padding=1),\n",
        "            torch.nn.ReLU(inplace=True),\n",
        "            torch.nn.MaxPool2d(kernel_size=3, stride=2),\n",
        "        )\n",
        "        self.avgpool = torch.nn.AdaptiveAvgPool2d((6, 6))\n",
        "        self.classifier = torch.nn.Sequential(\n",
        "            torch.nn.Dropout(0.5),\n",
        "            torch.nn.Linear(256 * 6 * 6, 4096),\n",
        "            torch.nn.ReLU(inplace=True),\n",
        "            torch.nn.Dropout(0.5),\n",
        "            torch.nn.Linear(4096, 4096),\n",
        "            torch.nn.ReLU(inplace=True),\n",
        "            torch.nn.Linear(4096, num_classes)\n",
        "        )\n",
        "\n",
        "    def forward(self, x):\n",
        "        x = self.features(x)\n",
        "        x = self.avgpool(x)\n",
        "        x = x.view(x.size(0), 256 * 6 * 6)\n",
        "        logits = self.classifier(x)\n",
        "        return logits\n"
      ]
    },
    {
      "cell_type": "code",
      "execution_count": null,
      "metadata": {},
      "outputs": [],
      "source": [
        "model = AlexNet(num_classes=10)\n",
        "\n",
        "model = model.to(DEVICE)\n",
        "\n",
        "\n",
        "optimizer = torch.optim.SGD(model.parameters(), momentum=0.9, lr=0.01)\n",
        "scheduler = torch.optim.lr_scheduler.ReduceLROnPlateau(optimizer,\n",
        "                                                       factor=0.1,\n",
        "                                                       mode='max',\n",
        "                                                       verbose=True)\n",
        "\n",
        "minibatch_loss_list, train_acc_list, valid_acc_list = train_model(\n",
        "    model=model,\n",
        "    num_epochs=NUM_EPOCHS,\n",
        "    train_loader=train_loader,\n",
        "    valid_loader=valid_loader,\n",
        "    test_loader=test_loader,\n",
        "    optimizer=optimizer,\n",
        "    device=DEVICE,\n",
        "    scheduler=scheduler,\n",
        "    scheduler_on='valid_acc',\n",
        "    logging_interval=100)\n",
        "\n",
        "plot_training_loss(minibatch_loss_list=minibatch_loss_list,\n",
        "                   num_epochs=NUM_EPOCHS,\n",
        "                   iter_per_epoch=len(train_loader),\n",
        "                   results_dir=None,\n",
        "                   averaging_iterations=200)\n",
        "plt.show()\n",
        "\n",
        "plot_accuracy(train_acc_list=train_acc_list,\n",
        "              valid_acc_list=valid_acc_list,\n",
        "              results_dir=None)\n",
        "plt.ylim([60, 100])\n",
        "plt.show()"
      ]
    },
    {
      "cell_type": "code",
      "execution_count": null,
      "metadata": {},
      "outputs": [],
      "source": [
        "model.cpu()\n",
        "unnormalizer = UnNormalize((0.5, 0.5, 0.5), (0.5, 0.5, 0.5))\n",
        "class_dict = {0: '0',\n",
        "              1: '1',\n",
        "              2: '2',\n",
        "              3: '3',\n",
        "              4: '4',\n",
        "              5: '5',\n",
        "              6: '6',\n",
        "              7: '7',\n",
        "              8: '8',\n",
        "              9: '9'}\n",
        "\n",
        "show_examples(model=model, data_loader=test_loader, unnormalizer=unnormalizer, class_dict=class_dict)"
      ]
    },
    {
      "cell_type": "code",
      "execution_count": null,
      "metadata": {},
      "outputs": [],
      "source": [
        "\n",
        "mat = compute_confusion_matrix(model=model, data_loader=test_loader, device=torch.device('cpu'))\n",
        "plot_confusion_matrix(mat, class_names=class_dict.values())\n",
        "plt.show()\n",
        "\n"
      ]
    },
    {
      "cell_type": "markdown",
      "metadata": {
        "id": "BPc9LX7p_whQ"
      },
      "source": [
        "# References\n",
        "\n",
        "This notebook is based on the books:\n",
        "\n",
        "\"Dive into deep learning\" by Aston Zhang, Zack C. Lipton, Mu Li and Alex J. Smola.\n",
        "\n",
        "\"Neural Networks and Deep Learning\" by Michael Nielsen."
      ]
    }
  ],
  "metadata": {
    "accelerator": "GPU",
    "colab": {
      "gpuType": "T4",
      "provenance": []
    },
    "kernelspec": {
      "display_name": "Python 3",
      "name": "python3"
    },
    "language_info": {
      "codemirror_mode": {
        "name": "ipython",
        "version": 3
      },
      "file_extension": ".py",
      "mimetype": "text/x-python",
      "name": "python",
      "nbconvert_exporter": "python",
      "pygments_lexer": "ipython3",
      "version": "3.10.6"
    }
  },
  "nbformat": 4,
  "nbformat_minor": 0
}
